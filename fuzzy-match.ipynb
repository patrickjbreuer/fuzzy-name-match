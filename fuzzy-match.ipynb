{
 "cells": [
  {
   "attachments": {},
   "cell_type": "markdown",
   "metadata": {},
   "source": [
    "**IDEE:**\n",
    "- ein Interface (UI) als frontend, während der nachfolgende Code im backend das matching durchführt\n",
    "- user sollte die zwei Input files über entsprechende UI elemente hochladen können (master und using file)\n",
    "- user sollte zudem über entsprechende text felder die relevanten Spaltennamen spezifizieren können (M_ID, M_NAME, M_YEAR, M_QTR sowie P_xx im Code unten)\n",
    "- es sollte eine Fortschrittsanzeige angezeigt werden\n",
    "- abschließend sollte der user die Ergebnisse über einen download button exportieren können"
   ]
  },
  {
   "cell_type": "code",
   "execution_count": 2,
   "metadata": {},
   "outputs": [],
   "source": [
    "import re\n",
    "from pathlib import Path\n",
    "\n",
    "import pandas as pd\n",
    "from thefuzz import fuzz, process\n",
    "from tqdm import tqdm"
   ]
  },
  {
   "cell_type": "code",
   "execution_count": 3,
   "metadata": {},
   "outputs": [],
   "source": [
    "def normalize_company_names(x: str):\n",
    "    '''Clean company names and prepare for fuzzy matching'''\n",
    "    # lowercasing\n",
    "    x = str(x).lower().strip()\n",
    "    # remove special characters\n",
    "    x = re.sub(r'[^a-z0-9 ]', '', x)\n",
    "    # remover certain trailing artifacts\n",
    "    x = re.sub(r' (q[1-4].*?|old|adr)$', '', x)     # SA / Compustat\n",
    "    x = re.sub(r' (cl a|cl b|redh)$', '', x)        # ExecuComp\n",
    "    # remove legal forms\n",
    "    x = re.sub(r' (public limited company|public limited|limited|unlimited|partnership|incorporation|incorporated|corporation|plc|pbc|ltd|inc|corp|llc|lp)$', '', x)\n",
    "    # normalize other frequent error cases\n",
    "    x = re.sub(r' co$', ' company', x)\n",
    "    x = re.sub(r'^the ', '', x)\n",
    "    x = re.sub(r' and ', ' ', x)\n",
    "    # remove of whitespaces\n",
    "    x = x.replace(' ', '')\n",
    "    return x\n",
    "\n",
    "\n",
    "def normalize_person_names(x):\n",
    "    '''Clean company names and prepare for fuzzy matching'''\n",
    "    # remove special characters\n",
    "    x = re.sub(r'[^A-Za-z0-9 ]', '', x)\n",
    "    # remove title\n",
    "    x = re.sub(r' (Economics|PharmD|CISA|MPPM|Hons|Hon|BBA|MBA|JD|MIM|PhD|Hon|FCPA|CFA|CPA|FCA|CMA|MAI|BSc|BSC|MSc|MSC|ESQ|MS|BA|CA|BE|AM|PE|AO|MD)', '', x)\n",
    "    # lowercasing\n",
    "    x = str(x).lower().strip()    \n",
    "    # sort names alphabetically\n",
    "    x = x.split()\n",
    "    x.sort()\n",
    "    x = ''.join(x)\n",
    "    return x\n",
    "\n",
    "\n",
    "def fuzzy_match(query:pd.DataFrame, q_name_norm:str,\n",
    "                db:pd.DataFrame, db_name_norm:str, db_name_id:str, db_name:str,\n",
    "                q_fy:str=None, q_qtr:str=None, db_fy:str=None, db_qtr:str=None):\n",
    "    '''Fuzzy match nearest neighbours for query in (filtered) database based on Levenshtein Distance\n",
    "    \n",
    "    :param pd.DataFrame query:\n",
    "        DataFrame from which to query\n",
    "    :param str q_name_norm:\n",
    "        Column name of normalized string column in query\n",
    "        \n",
    "    :param pd.DataFrame db:\n",
    "        DataFrame in which to search for match\n",
    "    :param str db_name_norm:\n",
    "        Column name of normalized string column in database\n",
    "    :param str db_name_id:\n",
    "        Column name of id column in database\n",
    "    :param str db_name:\n",
    "        Column name of string column in database\n",
    "        \n",
    "    :param str q_fy:\n",
    "        Column name of fiscal year column in query (for filtering)\n",
    "    :param str q_qtr:\n",
    "        Column name of fiscal quarter column in query (for filtering)\n",
    "    :param str db_fy:\n",
    "        Column name of fiscal year column in database (for filtering)\n",
    "    :param str db_qtr:\n",
    "        Column name of fiscal quarter column in database (for filtering)\n",
    "        \n",
    "    :return pd.Series neihbours:\n",
    "        Series of tuples of the form (nearest neighbour:str, similarity score:int, gvkey:int) \n",
    "        \n",
    "    '''\n",
    "    \n",
    "    def retrieve_nn(x:pd.DataFrame, db:pd.DataFrame):\n",
    "        ''' Fuzzy match nearest neighbour for query string '''\n",
    "        \n",
    "        # limit fuzzy match to relevant time interval\n",
    "        if q_fy and q_qtr and db_fy and db_qtr:\n",
    "            db = db[(db[db_fy]==x[q_fy]) & (db[db_qtr]==x[q_qtr])]\n",
    "        elif q_fy and db_fy:\n",
    "            db = db[(db[db_fy]==x[q_fy])]\n",
    "        \n",
    "        # retrieve nearest neighbour\n",
    "        try:\n",
    "            nn, score, _ = process.extractOne(x[q_name_norm], db[db_name_norm], scorer=fuzz.ratio)\n",
    "            id = db[db[db_name_norm]==nn][db_name_id]\n",
    "            id = id.item() if len(id)==1 else None\n",
    "            name = db[db[db_name_norm]==nn][db_name]\n",
    "            name = name.item() if len(name)==1 else None\n",
    "            return (nn, score, id, name)\n",
    "        except:\n",
    "            return (None, None, None, None)\n",
    "     \n",
    "    tqdm.pandas()\n",
    "    return query.progress_apply(lambda x: retrieve_nn(x, db), axis=1)"
   ]
  },
  {
   "cell_type": "code",
   "execution_count": 12,
   "metadata": {},
   "outputs": [],
   "source": [
    "# parameters\n",
    "\n",
    "F_EXTENSION = '.csv'\n",
    "\n",
    "PATH_M = Path('input', f'master{F_EXTENSION}')\n",
    "M_ID = 'secid'\n",
    "M_NAME = 'cname'\n",
    "M_YEAR = None\n",
    "M_QTR = None\n",
    "\n",
    "PATH_U  = Path('input', f'using{F_EXTENSION}')\n",
    "U_ID = 'gvkey'\n",
    "U_NAME = 'coname'\n",
    "U_YEAR = None\n",
    "U_QTR = None\n",
    "\n",
    "OUT = 'matches'"
   ]
  },
  {
   "cell_type": "code",
   "execution_count": 13,
   "metadata": {},
   "outputs": [],
   "source": [
    "if F_EXTENSION == '.csv':\n",
    "    master = pd.read_csv(PATH_M)\n",
    "    using = pd.read_csv(PATH_U)\n",
    "elif F_EXTENSION == '.dta':\n",
    "    master = pd.read_stata(PATH_M)\n",
    "    using = pd.read_stata(PATH_U)\n",
    "    \n",
    "M_NAME_NORM = f'{M_NAME}_norm'\n",
    "U_NAME_NORM = f'{U_NAME}_norm'\n",
    "\n",
    "master = master.assign(**{M_NAME_NORM: master[M_NAME].map(lambda x: normalize_company_names(x))})\n",
    "using = using.assign(**{U_NAME_NORM: using[U_NAME].map(lambda x: normalize_company_names(x))})"
   ]
  },
  {
   "cell_type": "code",
   "execution_count": 14,
   "metadata": {},
   "outputs": [
    {
     "name": "stderr",
     "output_type": "stream",
     "text": [
      "100%|██████████| 1071/1071 [00:15<00:00, 69.82it/s]\n"
     ]
    }
   ],
   "source": [
    "master['nn_match'], master['nn_score'], master[f'nn_{U_ID}'], master[f'nn_{U_NAME}'] = \\\n",
    "    zip(*fuzzy_match(master, M_NAME_NORM,\n",
    "                     using, U_NAME_NORM, U_ID, U_NAME,\n",
    "                     q_fy=M_YEAR, q_qtr=M_QTR, db_fy=U_YEAR, db_qtr=U_QTR))"
   ]
  },
  {
   "cell_type": "code",
   "execution_count": 16,
   "metadata": {},
   "outputs": [],
   "source": [
    "if F_EXTENSION == '.csv':\n",
    "    master.to_csv(Path('output', OUT).with_suffix('.csv'))\n",
    "elif F_EXTENSION == '.dta':\n",
    "    master.to_stata(Path('output', OUT).with_suffix('.dta'), version=118)"
   ]
  }
 ],
 "metadata": {
  "interpreter": {
   "hash": "52634da84371cba311ea128a5ea7cdc41ff074b781779e754b270ff9f8153cee"
  },
  "kernelspec": {
   "display_name": "Python 3.8.5 64-bit",
   "language": "python",
   "name": "python3"
  },
  "language_info": {
   "codemirror_mode": {
    "name": "ipython",
    "version": 3
   },
   "file_extension": ".py",
   "mimetype": "text/x-python",
   "name": "python",
   "nbconvert_exporter": "python",
   "pygments_lexer": "ipython3",
   "version": "3.8.5"
  },
  "orig_nbformat": 4
 },
 "nbformat": 4,
 "nbformat_minor": 2
}
